{
 "cells": [
  {
   "cell_type": "code",
   "execution_count": 1,
   "metadata": {
    "collapsed": true,
    "pycharm": {
     "name": "#%%\n"
    }
   },
   "outputs": [
    {
     "name": "stdout",
     "output_type": "stream",
     "text": [
      "Loading chipmunk for Darwin (64bit) [/Users/jim/Library/Python/3.7/lib/python/site-packages/pymunk/libchipmunk.dylib]\n",
      "WARNING:tensorflow:\n",
      "The TensorFlow contrib module will not be included in TensorFlow 2.0.\n",
      "For more information, please see:\n",
      "  * https://github.com/tensorflow/community/blob/master/rfcs/20180907-contrib-sunset.md\n",
      "  * https://github.com/tensorflow/addons\n",
      "  * https://github.com/tensorflow/io (for I/O related ops)\n",
      "If you depend on functionality not listed there, please file an issue.\n",
      "\n"
     ]
    }
   ],
   "source": [
    "import gym, gym_futbol_v1\n",
    "%matplotlib inline\n",
    "from gym_futbol_v1.envs import Side\n",
    "from utils import notebook_render_simple, notebook_render_mlp, notebook_render_lstm\n",
    "from training import ppo2_mlp_policy_train, ppo2_mlp_lstm_policy_train\n",
    "from stable_baselines import PPO2"
   ]
  },
  {
   "cell_type": "code",
   "execution_count": 2,
   "outputs": [
    {
     "data": {
      "image/png": "[encoded data removed]",
      "text/plain": "<Figure size 432x288 with 1 Axes>"
     },
     "metadata": {
      "needs_background": "light"
     },
     "output_type": "display_data"
    },
    {
     "name": "stdout",
     "output_type": "stream",
     "text": [
      "[[52.5        34.          0.          0.        ]\n",
      " [26.25       22.66666667  0.          0.        ]\n",
      " [26.25       45.33333333  0.          0.        ]\n",
      " [78.75       22.66666667  0.          0.        ]\n",
      " [78.75       45.33333333  0.          0.        ]]\n"
     ]
    }
   ],
   "source": [
    "env = gym.make(\"futbol-v1\")\n",
    "env.render()\n",
    "print(env.reset().reshape((-1,4)))"
   ],
   "metadata": {
    "collapsed": false,
    "pycharm": {
     "name": "#%%\n"
    }
   }
  },
  {
   "cell_type": "code",
   "execution_count": 3,
   "outputs": [
    {
     "data": {
      "image/png": "[encoded data removed]",
      "text/plain": "<Figure size 432x288 with 1 Axes>"
     },
     "metadata": {
      "needs_background": "light"
     },
     "output_type": "display_data"
    }
   ],
   "source": [
    "total_reward = notebook_render_simple(env, length=10)"
   ],
   "metadata": {
    "collapsed": false,
    "pycharm": {
     "name": "#%%\n"
    }
   }
  },
  {
   "cell_type": "code",
   "execution_count": 4,
   "outputs": [
    {
     "name": "stdout",
     "output_type": "stream",
     "text": [
      "--------------------------------------\n",
      "| approxkl           | 0.0004820075  |\n",
      "| clipfrac           | 0.0           |\n",
      "| ep_len_mean        | 300           |\n",
      "| ep_reward_mean     | 1.08e+03      |\n",
      "| explained_variance | 0.00112       |\n",
      "| fps                | 1026          |\n",
      "| n_updates          | 1             |\n",
      "| policy_entropy     | 6.4371614     |\n",
      "| policy_loss        | -0.0034731273 |\n",
      "| serial_timesteps   | 128           |\n",
      "| time_elapsed       | 1.41e-05      |\n",
      "| total_timesteps    | 1024          |\n",
      "| value_loss         | 9481.26       |\n",
      "--------------------------------------\n",
      "--------------------------------------\n",
      "| approxkl           | 0.00044427224 |\n",
      "| clipfrac           | 0.0           |\n",
      "| ep_len_mean        | 300           |\n",
      "| ep_reward_mean     | 1.02e+03      |\n",
      "| explained_variance | -0.00172      |\n",
      "| fps                | 2278          |\n",
      "| n_updates          | 2             |\n",
      "| policy_entropy     | 6.4331136     |\n",
      "| policy_loss        | -0.0006381649 |\n",
      "| serial_timesteps   | 256           |\n",
      "| time_elapsed       | 0.998         |\n",
      "| total_timesteps    | 2048          |\n",
      "| value_loss         | 8270.448      |\n",
      "--------------------------------------\n",
      "---------------------------------------\n",
      "| approxkl           | 2.8077782e-05  |\n",
      "| clipfrac           | 0.0            |\n",
      "| ep_len_mean        | 300            |\n",
      "| ep_reward_mean     | 742            |\n",
      "| explained_variance | 0.00154        |\n",
      "| fps                | 2536           |\n",
      "| n_updates          | 3              |\n",
      "| policy_entropy     | 6.4312162      |\n",
      "| policy_loss        | -0.00021088746 |\n",
      "| serial_timesteps   | 384            |\n",
      "| time_elapsed       | 1.45           |\n",
      "| total_timesteps    | 3072           |\n",
      "| value_loss         | 914.5093       |\n",
      "---------------------------------------\n",
      "--------------------------------------\n",
      "| approxkl           | 0.00030725318 |\n",
      "| clipfrac           | 0.0           |\n",
      "| ep_len_mean        | 300           |\n",
      "| ep_reward_mean     | 776           |\n",
      "| explained_variance | -5.96e-06     |\n",
      "| fps                | 2186          |\n",
      "| n_updates          | 4             |\n",
      "| policy_entropy     | 6.4293375     |\n",
      "| policy_loss        | 0.00022095256 |\n",
      "| serial_timesteps   | 512           |\n",
      "| time_elapsed       | 1.85          |\n",
      "| total_timesteps    | 4096          |\n",
      "| value_loss         | 14425.168     |\n",
      "--------------------------------------\n",
      "---------------------------------------\n",
      "| approxkl           | 1.2937314e-05  |\n",
      "| clipfrac           | 0.0            |\n",
      "| ep_len_mean        | 300            |\n",
      "| ep_reward_mean     | 727            |\n",
      "| explained_variance | -0.00474       |\n",
      "| fps                | 2646           |\n",
      "| n_updates          | 5              |\n",
      "| policy_entropy     | 6.428852       |\n",
      "| policy_loss        | -0.00013734135 |\n",
      "| serial_timesteps   | 640            |\n",
      "| time_elapsed       | 2.32           |\n",
      "| total_timesteps    | 5120           |\n",
      "| value_loss         | 660.3638       |\n",
      "---------------------------------------\n",
      "--------------------------------------\n",
      "| approxkl           | 4.196482e-06  |\n",
      "| clipfrac           | 0.0           |\n",
      "| ep_len_mean        | 300           |\n",
      "| ep_reward_mean     | 870           |\n",
      "| explained_variance | -0.000365     |\n",
      "| fps                | 2165          |\n",
      "| n_updates          | 6             |\n",
      "| policy_entropy     | 6.427866      |\n",
      "| policy_loss        | 8.7412656e-05 |\n",
      "| serial_timesteps   | 768           |\n",
      "| time_elapsed       | 2.71          |\n",
      "| total_timesteps    | 6144          |\n",
      "| value_loss         | 7889.7563     |\n",
      "--------------------------------------\n",
      "--------------------------------------\n",
      "| approxkl           | 0.00024983182 |\n",
      "| clipfrac           | 0.0           |\n",
      "| ep_len_mean        | 300           |\n",
      "| ep_reward_mean     | 918           |\n",
      "| explained_variance | 0.000127      |\n",
      "| fps                | 2505          |\n",
      "| n_updates          | 7             |\n",
      "| policy_entropy     | 6.428564      |\n",
      "| policy_loss        | -0.0011127406 |\n",
      "| serial_timesteps   | 896           |\n",
      "| time_elapsed       | 3.18          |\n",
      "| total_timesteps    | 7168          |\n",
      "| value_loss         | 4082.9592     |\n",
      "--------------------------------------\n",
      "Eval num_timesteps=8000, episode_reward=-40.89 +/- 1070.58\n",
      "Episode length: 300.00 +/- 0.00\n",
      "New best mean reward!\n",
      "---------------------------------------\n",
      "| approxkl           | 0.0007148476   |\n",
      "| clipfrac           | 0.0            |\n",
      "| ep_len_mean        | 300            |\n",
      "| ep_reward_mean     | 865            |\n",
      "| explained_variance | 3.19e-05       |\n",
      "| fps                | 279            |\n",
      "| n_updates          | 8              |\n",
      "| policy_entropy     | 6.426629       |\n",
      "| policy_loss        | -0.00020128171 |\n",
      "| serial_timesteps   | 1024           |\n",
      "| time_elapsed       | 3.59           |\n",
      "| total_timesteps    | 8192           |\n",
      "| value_loss         | 8509.716       |\n",
      "---------------------------------------\n",
      "---------------------------------------\n",
      "| approxkl           | 2.7288443e-05  |\n",
      "| clipfrac           | 0.0            |\n",
      "| ep_len_mean        | 300            |\n",
      "| ep_reward_mean     | 806            |\n",
      "| explained_variance | -0.00058       |\n",
      "| fps                | 2528           |\n",
      "| n_updates          | 9              |\n",
      "| policy_entropy     | 6.4259677      |\n",
      "| policy_loss        | -2.8096256e-06 |\n",
      "| serial_timesteps   | 1152           |\n",
      "| time_elapsed       | 7.26           |\n",
      "| total_timesteps    | 9216           |\n",
      "| value_loss         | 4281.8193      |\n",
      "---------------------------------------\n"
     ]
    }
   ],
   "source": [
    "model, save_dir = ppo2_mlp_policy_train(time_step=10**4)"
   ],
   "metadata": {
    "collapsed": false,
    "pycharm": {
     "name": "#%%\n"
    }
   }
  },
  {
   "cell_type": "code",
   "execution_count": 5,
   "outputs": [
    {
     "name": "stdout",
     "output_type": "stream",
     "text": [
      "Loading a model without an environment, this model cannot be trained until it has a valid environment.\n"
     ]
    }
   ],
   "source": [
    "best_model = PPO2.load(save_dir + \"/best_model\")"
   ],
   "metadata": {
    "collapsed": false,
    "pycharm": {
     "name": "#%%\n"
    }
   }
  },
  {
   "cell_type": "code",
   "execution_count": 6,
   "outputs": [
    {
     "data": {
      "image/png": "[encoded data removed]",
      "text/plain": "<Figure size 432x288 with 1 Axes>"
     },
     "metadata": {
      "needs_background": "light"
     },
     "output_type": "display_data"
    }
   ],
   "source": [
    "total_reward = notebook_render_mlp('futbol-v1', best_model)"
   ],
   "metadata": {
    "collapsed": false,
    "pycharm": {
     "name": "#%%\n"
    }
   }
  },
  {
   "cell_type": "code",
   "execution_count": 7,
   "outputs": [
    {
     "name": "stdout",
     "output_type": "stream",
     "text": [
      "--------------------------------------\n",
      "| approxkl           | 0.0013559756  |\n",
      "| clipfrac           | 0.0026855469  |\n",
      "| ep_len_mean        | 300           |\n",
      "| ep_reward_mean     | 2.14e+03      |\n",
      "| explained_variance | -7.36e-05     |\n",
      "| fps                | 122           |\n",
      "| n_updates          | 1             |\n",
      "| policy_entropy     | 6.4276805     |\n",
      "| policy_loss        | -0.0031477578 |\n",
      "| serial_timesteps   | 128           |\n",
      "| time_elapsed       | 1.53e-05      |\n",
      "| total_timesteps    | 1024          |\n",
      "| value_loss         | 17416.3       |\n",
      "--------------------------------------\n",
      "--------------------------------------\n",
      "| approxkl           | 0.00050659373 |\n",
      "| clipfrac           | 0.0           |\n",
      "| ep_len_mean        | 300           |\n",
      "| ep_reward_mean     | 1.16e+03      |\n",
      "| explained_variance | -8.18e-05     |\n",
      "| fps                | 268           |\n",
      "| n_updates          | 2             |\n",
      "| policy_entropy     | 6.4278665     |\n",
      "| policy_loss        | 0.0008017018  |\n",
      "| serial_timesteps   | 256           |\n",
      "| time_elapsed       | 8.37          |\n",
      "| total_timesteps    | 2048          |\n",
      "| value_loss         | 24039.2       |\n",
      "--------------------------------------\n",
      "---------------------------------------\n",
      "| approxkl           | 0.0006244162   |\n",
      "| clipfrac           | 0.0            |\n",
      "| ep_len_mean        | 300            |\n",
      "| ep_reward_mean     | 847            |\n",
      "| explained_variance | -0.00234       |\n",
      "| fps                | 273            |\n",
      "| n_updates          | 3              |\n",
      "| policy_entropy     | 6.4235272      |\n",
      "| policy_loss        | -0.00038972747 |\n",
      "| serial_timesteps   | 384            |\n",
      "| time_elapsed       | 12.2           |\n",
      "| total_timesteps    | 3072           |\n",
      "| value_loss         | 387.85168      |\n",
      "---------------------------------------\n",
      "--------------------------------------\n",
      "| approxkl           | 0.0024291184  |\n",
      "| clipfrac           | 0.025390625   |\n",
      "| ep_len_mean        | 300           |\n",
      "| ep_reward_mean     | 1.02e+03      |\n",
      "| explained_variance | -0.000117     |\n",
      "| fps                | 321           |\n",
      "| n_updates          | 4             |\n",
      "| policy_entropy     | 6.4123726     |\n",
      "| policy_loss        | -0.0021939483 |\n",
      "| serial_timesteps   | 512           |\n",
      "| time_elapsed       | 15.9          |\n",
      "| total_timesteps    | 4096          |\n",
      "| value_loss         | 10436.272     |\n",
      "--------------------------------------\n",
      "-------------------------------------\n",
      "| approxkl           | 0.0041048853 |\n",
      "| clipfrac           | 0.044921875  |\n",
      "| ep_len_mean        | 300          |\n",
      "| ep_reward_mean     | 917          |\n",
      "| explained_variance | 0.000701     |\n",
      "| fps                | 305          |\n",
      "| n_updates          | 5            |\n",
      "| policy_entropy     | 6.4021344    |\n",
      "| policy_loss        | 0.0008313253 |\n",
      "| serial_timesteps   | 640          |\n",
      "| time_elapsed       | 19.1         |\n",
      "| total_timesteps    | 5120         |\n",
      "| value_loss         | 8293.078     |\n",
      "-------------------------------------\n",
      "--------------------------------------\n",
      "| approxkl           | 0.0010997847  |\n",
      "| clipfrac           | 0.0026855469  |\n",
      "| ep_len_mean        | 300           |\n",
      "| ep_reward_mean     | 796           |\n",
      "| explained_variance | 0.00124       |\n",
      "| fps                | 300           |\n",
      "| n_updates          | 6             |\n",
      "| policy_entropy     | 6.388027      |\n",
      "| policy_loss        | -0.0013806093 |\n",
      "| serial_timesteps   | 768           |\n",
      "| time_elapsed       | 22.5          |\n",
      "| total_timesteps    | 6144          |\n",
      "| value_loss         | 4601.226      |\n",
      "--------------------------------------\n",
      "-------------------------------------\n",
      "| approxkl           | 0.0010875359 |\n",
      "| clipfrac           | 0.001953125  |\n",
      "| ep_len_mean        | 300          |\n",
      "| ep_reward_mean     | 647          |\n",
      "| explained_variance | 0.000568     |\n",
      "| fps                | 306          |\n",
      "| n_updates          | 7            |\n",
      "| policy_entropy     | 6.379124     |\n",
      "| policy_loss        | -0.001215789 |\n",
      "| serial_timesteps   | 896          |\n",
      "| time_elapsed       | 25.9         |\n",
      "| total_timesteps    | 7168         |\n",
      "| value_loss         | 8416.233     |\n",
      "-------------------------------------\n",
      "--------------------------------------\n",
      "| approxkl           | 0.003995618   |\n",
      "| clipfrac           | 0.048583984   |\n",
      "| ep_len_mean        | 300           |\n",
      "| ep_reward_mean     | 632           |\n",
      "| explained_variance | 0.000444      |\n",
      "| fps                | 305           |\n",
      "| n_updates          | 8             |\n",
      "| policy_entropy     | 6.3385086     |\n",
      "| policy_loss        | -0.0013575554 |\n",
      "| serial_timesteps   | 1024          |\n",
      "| time_elapsed       | 29.2          |\n",
      "| total_timesteps    | 8192          |\n",
      "| value_loss         | 4774.425      |\n",
      "--------------------------------------\n",
      "-------------------------------------\n",
      "| approxkl           | 0.006699373  |\n",
      "| clipfrac           | 0.09399414   |\n",
      "| ep_len_mean        | 300          |\n",
      "| ep_reward_mean     | 663          |\n",
      "| explained_variance | 0.000273     |\n",
      "| fps                | 308          |\n",
      "| n_updates          | 9            |\n",
      "| policy_entropy     | 6.355373     |\n",
      "| policy_loss        | 0.0008284903 |\n",
      "| serial_timesteps   | 1152         |\n",
      "| time_elapsed       | 32.6         |\n",
      "| total_timesteps    | 9216         |\n",
      "| value_loss         | 5315.843     |\n",
      "-------------------------------------\n"
     ]
    }
   ],
   "source": [
    "model, save_dir = ppo2_mlp_lstm_policy_train(time_step=10**4)"
   ],
   "metadata": {
    "collapsed": false,
    "pycharm": {
     "name": "#%%\n"
    }
   }
  },
  {
   "cell_type": "code",
   "execution_count": 8,
   "outputs": [
    {
     "data": {
      "image/png": "[encoded data removed]",
      "text/plain": "<Figure size 432x288 with 1 Axes>"
     },
     "metadata": {
      "needs_background": "light"
     },
     "output_type": "display_data"
    }
   ],
   "source": [
    "total_reward = notebook_render_lstm('futbol-v1', model)"
   ],
   "metadata": {
    "collapsed": false,
    "pycharm": {
     "name": "#%%\n"
    }
   }
  },
  {
   "cell_type": "code",
   "execution_count": null,
   "outputs": [],
   "source": [
    "\n"
   ],
   "metadata": {
    "collapsed": false,
    "pycharm": {
     "name": "#%%\n"
    }
   }
  }
 ],
 "metadata": {
  "kernelspec": {
   "name": "python37664bit40079da364b347ecabc1815e0b83d85b",
   "language": "python",
   "display_name": "Python 3.7.6 64-bit"
  },
  "language_info": {
   "codemirror_mode": {
    "name": "ipython",
    "version": 2
   },
   "file_extension": ".py",
   "mimetype": "text/x-python",
   "name": "python",
   "nbconvert_exporter": "python",
   "pygments_lexer": "ipython2",
   "version": "2.7.6"
  }
 },
 "nbformat": 4,
 "nbformat_minor": 0
}