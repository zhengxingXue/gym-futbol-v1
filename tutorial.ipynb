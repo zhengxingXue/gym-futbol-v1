{
 "cells": [
  {
   "cell_type": "code",
   "execution_count": 1,
   "metadata": {
    "collapsed": true,
    "pycharm": {
     "name": "#%%\n"
    }
   },
   "outputs": [
    {
     "name": "stdout",
     "output_type": "stream",
     "text": [
      "Loading chipmunk for Darwin (64bit) [/Users/jim/Library/Python/3.7/lib/python/site-packages/pymunk/libchipmunk.dylib]\n",
      "WARNING:tensorflow:\n",
      "The TensorFlow contrib module will not be included in TensorFlow 2.0.\n",
      "For more information, please see:\n",
      "  * https://github.com/tensorflow/community/blob/master/rfcs/20180907-contrib-sunset.md\n",
      "  * https://github.com/tensorflow/addons\n",
      "  * https://github.com/tensorflow/io (for I/O related ops)\n",
      "If you depend on functionality not listed there, please file an issue.\n",
      "\n"
     ]
    }
   ],
   "source": [
    "import gym, gym_futbol_v1\n",
    "import numpy as np\n",
    "import pymunk.matplotlib_util\n",
    "import matplotlib.pyplot as plt\n",
    "%matplotlib inline\n",
    "from IPython import display\n",
    "from gym_futbol_v1.envs import Side\n",
    "from utils import notebook_render_simple, notebook_render_mlp\n",
    "from training import ppo2_mlp_policy_train\n",
    "from stable_baselines import PPO2"
   ]
  },
  {
   "cell_type": "code",
   "execution_count": 2,
   "outputs": [
    {
     "data": {
      "image/png": "[encoded data removed]",
      "text/plain": "<Figure size 432x288 with 1 Axes>"
     },
     "metadata": {
      "needs_background": "light"
     },
     "output_type": "display_data"
    },
    {
     "name": "stdout",
     "output_type": "stream",
     "text": [
      "[[52.5        34.          0.          0.        ]\n",
      " [26.25       22.66666667  0.          0.        ]\n",
      " [26.25       45.33333333  0.          0.        ]\n",
      " [78.75       22.66666667  0.          0.        ]\n",
      " [78.75       45.33333333  0.          0.        ]]\n"
     ]
    }
   ],
   "source": [
    "env = gym.make(\"futbol-v1\")\n",
    "env.render()\n",
    "print(env.reset().reshape((-1,4)))"
   ],
   "metadata": {
    "collapsed": false,
    "pycharm": {
     "name": "#%%\n"
    }
   }
  },
  {
   "cell_type": "code",
   "execution_count": 3,
   "outputs": [
    {
     "data": {
      "image/png": "[encoded data removed]",
      "text/plain": "<Figure size 432x288 with 1 Axes>"
     },
     "metadata": {
      "needs_background": "light"
     },
     "output_type": "display_data"
    }
   ],
   "source": [
    "total_reward = notebook_render_simple(env, length=10)"
   ],
   "metadata": {
    "collapsed": false,
    "pycharm": {
     "name": "#%%\n"
    }
   }
  },
  {
   "cell_type": "code",
   "execution_count": 4,
   "outputs": [
    {
     "name": "stdout",
     "output_type": "stream",
     "text": [
      "--------------------------------------\n",
      "| approxkl           | 0.0005858371  |\n",
      "| clipfrac           | 0.0           |\n",
      "| ep_len_mean        | 300           |\n",
      "| ep_reward_mean     | 1.51e+03      |\n",
      "| explained_variance | 0.000743      |\n",
      "| fps                | 1089          |\n",
      "| n_updates          | 1             |\n",
      "| policy_entropy     | 6.4370265     |\n",
      "| policy_loss        | -0.0043156114 |\n",
      "| serial_timesteps   | 128           |\n",
      "| time_elapsed       | 1.72e-05      |\n",
      "| total_timesteps    | 1024          |\n",
      "| value_loss         | 13175.054     |\n",
      "--------------------------------------\n",
      "--------------------------------------\n",
      "| approxkl           | 0.00085611944 |\n",
      "| clipfrac           | 0.0           |\n",
      "| ep_len_mean        | 300           |\n",
      "| ep_reward_mean     | 921           |\n",
      "| explained_variance | 8.93e-05      |\n",
      "| fps                | 2036          |\n",
      "| n_updates          | 2             |\n",
      "| policy_entropy     | 6.430683      |\n",
      "| policy_loss        | 0.0002252537  |\n",
      "| serial_timesteps   | 256           |\n",
      "| time_elapsed       | 0.941         |\n",
      "| total_timesteps    | 2048          |\n",
      "| value_loss         | 8564.861      |\n",
      "--------------------------------------\n",
      "---------------------------------------\n",
      "| approxkl           | 0.000120683566 |\n",
      "| clipfrac           | 0.0            |\n",
      "| ep_len_mean        | 300            |\n",
      "| ep_reward_mean     | 784            |\n",
      "| explained_variance | 0.0154         |\n",
      "| fps                | 2525           |\n",
      "| n_updates          | 3              |\n",
      "| policy_entropy     | 6.4281397      |\n",
      "| policy_loss        | -0.0016518945  |\n",
      "| serial_timesteps   | 384            |\n",
      "| time_elapsed       | 1.44           |\n",
      "| total_timesteps    | 3072           |\n",
      "| value_loss         | 470.24744      |\n",
      "---------------------------------------\n",
      "--------------------------------------\n",
      "| approxkl           | 0.00060686166 |\n",
      "| clipfrac           | 0.0           |\n",
      "| ep_len_mean        | 300           |\n",
      "| ep_reward_mean     | 505           |\n",
      "| explained_variance | 4.27e-05      |\n",
      "| fps                | 2131          |\n",
      "| n_updates          | 4             |\n",
      "| policy_entropy     | 6.4228287     |\n",
      "| policy_loss        | -0.0012641975 |\n",
      "| serial_timesteps   | 512           |\n",
      "| time_elapsed       | 1.85          |\n",
      "| total_timesteps    | 4096          |\n",
      "| value_loss         | 9892.746      |\n",
      "--------------------------------------\n",
      "---------------------------------------\n",
      "| approxkl           | 8.90884e-05    |\n",
      "| clipfrac           | 0.0            |\n",
      "| ep_len_mean        | 300            |\n",
      "| ep_reward_mean     | 773            |\n",
      "| explained_variance | 0.000308       |\n",
      "| fps                | 2153           |\n",
      "| n_updates          | 5              |\n",
      "| policy_entropy     | 6.4198823      |\n",
      "| policy_loss        | -0.00079733954 |\n",
      "| serial_timesteps   | 640            |\n",
      "| time_elapsed       | 2.33           |\n",
      "| total_timesteps    | 5120           |\n",
      "| value_loss         | 12661.36       |\n",
      "---------------------------------------\n",
      "---------------------------------------\n",
      "| approxkl           | 0.00062682386  |\n",
      "| clipfrac           | 0.0            |\n",
      "| ep_len_mean        | 300            |\n",
      "| ep_reward_mean     | 853            |\n",
      "| explained_variance | 0.000347       |\n",
      "| fps                | 2032           |\n",
      "| n_updates          | 6              |\n",
      "| policy_entropy     | 6.4130754      |\n",
      "| policy_loss        | -0.00064929895 |\n",
      "| serial_timesteps   | 768            |\n",
      "| time_elapsed       | 2.81           |\n",
      "| total_timesteps    | 6144           |\n",
      "| value_loss         | 7022.949       |\n",
      "---------------------------------------\n",
      "--------------------------------------\n",
      "| approxkl           | 3.3401688e-05 |\n",
      "| clipfrac           | 0.0           |\n",
      "| ep_len_mean        | 300           |\n",
      "| ep_reward_mean     | 768           |\n",
      "| explained_variance | 0.000568      |\n",
      "| fps                | 2199          |\n",
      "| n_updates          | 7             |\n",
      "| policy_entropy     | 6.409875      |\n",
      "| policy_loss        | -0.0003383708 |\n",
      "| serial_timesteps   | 896           |\n",
      "| time_elapsed       | 3.31          |\n",
      "| total_timesteps    | 7168          |\n",
      "| value_loss         | 19888.17      |\n",
      "--------------------------------------\n",
      "Eval num_timesteps=8000, episode_reward=1342.85 +/- 881.85\n",
      "Episode length: 300.00 +/- 0.00\n",
      "New best mean reward!\n",
      "---------------------------------------\n",
      "| approxkl           | 2.5184468e-06  |\n",
      "| clipfrac           | 0.0            |\n",
      "| ep_len_mean        | 300            |\n",
      "| ep_reward_mean     | 601            |\n",
      "| explained_variance | -0.000477      |\n",
      "| fps                | 300            |\n",
      "| n_updates          | 8              |\n",
      "| policy_entropy     | 6.408746       |\n",
      "| policy_loss        | -0.00012469472 |\n",
      "| serial_timesteps   | 1024           |\n",
      "| time_elapsed       | 3.78           |\n",
      "| total_timesteps    | 8192           |\n",
      "| value_loss         | 10158.35       |\n",
      "---------------------------------------\n",
      "---------------------------------------\n",
      "| approxkl           | 1.7980631e-06  |\n",
      "| clipfrac           | 0.0            |\n",
      "| ep_len_mean        | 300            |\n",
      "| ep_reward_mean     | 582            |\n",
      "| explained_variance | 0.000502       |\n",
      "| fps                | 1985           |\n",
      "| n_updates          | 9              |\n",
      "| policy_entropy     | 6.413529       |\n",
      "| policy_loss        | -0.00018557708 |\n",
      "| serial_timesteps   | 1152           |\n",
      "| time_elapsed       | 7.19           |\n",
      "| total_timesteps    | 9216           |\n",
      "| value_loss         | 8621.182       |\n",
      "---------------------------------------\n"
     ]
    }
   ],
   "source": [
    "model, save_dir = ppo2_mlp_policy_train(time_step=10**4)"
   ],
   "metadata": {
    "collapsed": false,
    "pycharm": {
     "name": "#%%\n"
    }
   }
  },
  {
   "cell_type": "code",
   "execution_count": 5,
   "outputs": [
    {
     "name": "stdout",
     "output_type": "stream",
     "text": [
      "Loading a model without an environment, this model cannot be trained until it has a valid environment.\n"
     ]
    }
   ],
   "source": [
    "best_model = PPO2.load(save_dir + \"/best_model\")"
   ],
   "metadata": {
    "collapsed": false,
    "pycharm": {
     "name": "#%%\n"
    }
   }
  },
  {
   "cell_type": "code",
   "execution_count": 6,
   "outputs": [
    {
     "data": {
      "image/png": "[encoded data removed]",
      "text/plain": "<Figure size 432x288 with 1 Axes>"
     },
     "metadata": {
      "needs_background": "light"
     },
     "output_type": "display_data"
    }
   ],
   "source": [
    "total_reward = notebook_render_mlp('futbol-v1', best_model)"
   ],
   "metadata": {
    "collapsed": false,
    "pycharm": {
     "name": "#%%\n"
    }
   }
  },
  {
   "cell_type": "code",
   "execution_count": 7,
   "outputs": [
    {
     "data": {
      "text/plain": "275.9812967949877"
     },
     "execution_count": 7,
     "metadata": {},
     "output_type": "execute_result"
    }
   ],
   "source": [
    "total_reward"
   ],
   "metadata": {
    "collapsed": false,
    "pycharm": {
     "name": "#%%\n"
    }
   }
  },
  {
   "cell_type": "code",
   "execution_count": null,
   "outputs": [],
   "source": [
    "\n"
   ],
   "metadata": {
    "collapsed": false,
    "pycharm": {
     "name": "#%%\n"
    }
   }
  }
 ],
 "metadata": {
  "kernelspec": {
   "name": "python37664bit40079da364b347ecabc1815e0b83d85b",
   "language": "python",
   "display_name": "Python 3.7.6 64-bit"
  },
  "language_info": {
   "codemirror_mode": {
    "name": "ipython",
    "version": 2
   },
   "file_extension": ".py",
   "mimetype": "text/x-python",
   "name": "python",
   "nbconvert_exporter": "python",
   "pygments_lexer": "ipython2",
   "version": "2.7.6"
  }
 },
 "nbformat": 4,
 "nbformat_minor": 0
}