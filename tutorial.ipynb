{
 "cells": [
  {
   "cell_type": "code",
   "execution_count": 1,
   "metadata": {
    "collapsed": true,
    "pycharm": {
     "name": "#%%\n"
    }
   },
   "outputs": [
    {
     "name": "stdout",
     "output_type": "stream",
     "text": [
      "Loading chipmunk for Darwin (64bit) [/Users/jim/Library/Python/3.7/lib/python/site-packages/pymunk/libchipmunk.dylib]\n",
      "WARNING:tensorflow:\n",
      "The TensorFlow contrib module will not be included in TensorFlow 2.0.\n",
      "For more information, please see:\n",
      "  * https://github.com/tensorflow/community/blob/master/rfcs/20180907-contrib-sunset.md\n",
      "  * https://github.com/tensorflow/addons\n",
      "  * https://github.com/tensorflow/io (for I/O related ops)\n",
      "If you depend on functionality not listed there, please file an issue.\n",
      "\n"
     ]
    }
   ],
   "source": [
    "import gym, gym_futbol_v1\n",
    "import numpy as np\n",
    "import pymunk.matplotlib_util\n",
    "import matplotlib.pyplot as plt\n",
    "%matplotlib inline\n",
    "from IPython import display\n",
    "from gym_futbol_v1.envs import Side\n",
    "from training import ppo2_training_mlp\n",
    "from stable_baselines import PPO2"
   ]
  },
  {
   "cell_type": "code",
   "execution_count": 2,
   "outputs": [
    {
     "data": {
      "image/png": "[encoded data removed]",
      "text/plain": "<Figure size 432x288 with 1 Axes>"
     },
     "metadata": {
      "needs_background": "light"
     },
     "output_type": "display_data"
    },
    {
     "name": "stdout",
     "output_type": "stream",
     "text": [
      "[[52.5        34.          0.          0.        ]\n",
      " [26.25       22.66666667  0.          0.        ]\n",
      " [26.25       45.33333333  0.          0.        ]\n",
      " [78.75       22.66666667  0.          0.        ]\n",
      " [78.75       45.33333333  0.          0.        ]]\n",
      "[[ 0.          0.          0.          0.        ]\n",
      " [-0.47297297 -0.33333333  0.          0.        ]\n",
      " [-0.47297297  0.33333333  0.          0.        ]\n",
      " [ 0.47297297 -0.33333333  0.          0.        ]\n",
      " [ 0.47297297  0.33333333  0.          0.        ]]\n"
     ]
    }
   ],
   "source": [
    "env = gym.make(\"futbol-v1\")\n",
    "env.render()\n",
    "print(env.reset().reshape((-1,4)))\n",
    "print(env.normalize_observation_array(env.reset()).reshape((-1,4)))"
   ],
   "metadata": {
    "collapsed": false,
    "pycharm": {
     "name": "#%%\n"
    }
   }
  },
  {
   "cell_type": "code",
   "execution_count": 3,
   "outputs": [
    {
     "data": {
      "image/png": "[encoded data removed]",
      "text/plain": "<Figure size 432x288 with 1 Axes>"
     },
     "metadata": {
      "needs_background": "light"
     },
     "output_type": "display_data"
    }
   ],
   "source": [
    "done = False\n",
    "total_reward = 0\n",
    "for _ in range(20):\n",
    "    # action = np.reshape(env.action_space.sample(), -1)\n",
    "    action = np.array([0,0,0,3])\n",
    "    ob, reward, done, info = env.step(action, team_side=Side.right)\n",
    "\n",
    "    plt.clf()\n",
    "    title_str = (\"reward : \" + str(reward))\n",
    "    padding = 5\n",
    "    ax = plt.axes(xlim=(0 - padding, env.WIDTH + padding), ylim=(0 - padding, env.HEIGHT + padding))\n",
    "    ax.set_aspect(\"equal\")\n",
    "    o = pymunk.matplotlib_util.DrawOptions(ax)\n",
    "    env.space.debug_draw(o)\n",
    "    plt.title(title_str, loc = 'left')\n",
    "    display.display(plt.gcf())\n",
    "    display.clear_output(wait=True)\n",
    "\n",
    "    total_reward += reward"
   ],
   "metadata": {
    "collapsed": false,
    "pycharm": {
     "name": "#%%\n"
    }
   }
  },
  {
   "cell_type": "code",
   "execution_count": 4,
   "outputs": [
    {
     "data": {
      "text/plain": "array([52.5       , 34.        ,  0.        ,  0.        , 26.25      ,\n       22.66666667,  0.        ,  0.        , 26.25      , 45.33333333,\n        0.        ,  0.        , 78.75      , 22.66666667,  0.        ,\n        0.        , 78.75      , 45.33333333,  0.        ,  0.        ])"
     },
     "execution_count": 4,
     "metadata": {},
     "output_type": "execute_result"
    }
   ],
   "source": [
    "env.reset()"
   ],
   "metadata": {
    "collapsed": false,
    "pycharm": {
     "name": "#%%\n"
    }
   }
  },
  {
   "cell_type": "code",
   "execution_count": 5,
   "outputs": [
    {
     "name": "stdout",
     "output_type": "stream",
     "text": [
      "--------------------------------------\n",
      "| approxkl           | 0.0005074955  |\n",
      "| clipfrac           | 0.00024414062 |\n",
      "| ep_len_mean        | 300           |\n",
      "| ep_reward_mean     | 985           |\n",
      "| explained_variance | -0.000741     |\n",
      "| fps                | 1154          |\n",
      "| n_updates          | 1             |\n",
      "| policy_entropy     | 6.437153      |\n",
      "| policy_loss        | -0.00454567   |\n",
      "| serial_timesteps   | 128           |\n",
      "| time_elapsed       | 2e-05         |\n",
      "| total_timesteps    | 1024          |\n",
      "| value_loss         | 5671.44       |\n",
      "--------------------------------------\n",
      "--------------------------------------\n",
      "| approxkl           | 0.00032426868 |\n",
      "| clipfrac           | 0.0           |\n",
      "| ep_len_mean        | 300           |\n",
      "| ep_reward_mean     | 613           |\n",
      "| explained_variance | -0.000308     |\n",
      "| fps                | 2569          |\n",
      "| n_updates          | 2             |\n",
      "| policy_entropy     | 6.433933      |\n",
      "| policy_loss        | 0.0003653949  |\n",
      "| serial_timesteps   | 256           |\n",
      "| time_elapsed       | 0.888         |\n",
      "| total_timesteps    | 2048          |\n",
      "| value_loss         | 5399.9297     |\n",
      "--------------------------------------\n",
      "---------------------------------------\n",
      "| approxkl           | 5.5028366e-05  |\n",
      "| clipfrac           | 0.0            |\n",
      "| ep_len_mean        | 300            |\n",
      "| ep_reward_mean     | 707            |\n",
      "| explained_variance | 1.75e-05       |\n",
      "| fps                | 2723           |\n",
      "| n_updates          | 3              |\n",
      "| policy_entropy     | 6.431001       |\n",
      "| policy_loss        | -0.00074590975 |\n",
      "| serial_timesteps   | 384            |\n",
      "| time_elapsed       | 1.29           |\n",
      "| total_timesteps    | 3072           |\n",
      "| value_loss         | 4793.6         |\n",
      "---------------------------------------\n",
      "--------------------------------------\n",
      "| approxkl           | 0.00047568724 |\n",
      "| clipfrac           | 0.0           |\n",
      "| ep_len_mean        | 300           |\n",
      "| ep_reward_mean     | 725           |\n",
      "| explained_variance | -0.000127     |\n",
      "| fps                | 1962          |\n",
      "| n_updates          | 4             |\n",
      "| policy_entropy     | 6.4282537     |\n",
      "| policy_loss        | -0.0007717507 |\n",
      "| serial_timesteps   | 512           |\n",
      "| time_elapsed       | 1.66          |\n",
      "| total_timesteps    | 4096          |\n",
      "| value_loss         | 11959.844     |\n",
      "--------------------------------------\n",
      "--------------------------------------\n",
      "| approxkl           | 2.6258142e-05 |\n",
      "| clipfrac           | 0.0           |\n",
      "| ep_len_mean        | 300           |\n",
      "| ep_reward_mean     | 726           |\n",
      "| explained_variance | 0.000415      |\n",
      "| fps                | 2895          |\n",
      "| n_updates          | 5             |\n",
      "| policy_entropy     | 6.4243107     |\n",
      "| policy_loss        | 0.00018920051 |\n",
      "| serial_timesteps   | 640           |\n",
      "| time_elapsed       | 2.19          |\n",
      "| total_timesteps    | 5120          |\n",
      "| value_loss         | 16202.263     |\n",
      "--------------------------------------\n",
      "---------------------------------------\n",
      "| approxkl           | 1.1591908e-06  |\n",
      "| clipfrac           | 0.0            |\n",
      "| ep_len_mean        | 300            |\n",
      "| ep_reward_mean     | 647            |\n",
      "| explained_variance | -0.00042       |\n",
      "| fps                | 2199           |\n",
      "| n_updates          | 6              |\n",
      "| policy_entropy     | 6.423477       |\n",
      "| policy_loss        | -0.00012944217 |\n",
      "| serial_timesteps   | 768            |\n",
      "| time_elapsed       | 2.54           |\n",
      "| total_timesteps    | 6144           |\n",
      "| value_loss         | 4489.888       |\n",
      "---------------------------------------\n",
      "---------------------------------------\n",
      "| approxkl           | 1.0567246e-05  |\n",
      "| clipfrac           | 0.0            |\n",
      "| ep_len_mean        | 300            |\n",
      "| ep_reward_mean     | 787            |\n",
      "| explained_variance | -0.00031       |\n",
      "| fps                | 2409           |\n",
      "| n_updates          | 7              |\n",
      "| policy_entropy     | 6.4231677      |\n",
      "| policy_loss        | -0.00019578979 |\n",
      "| serial_timesteps   | 896            |\n",
      "| time_elapsed       | 3.01           |\n",
      "| total_timesteps    | 7168           |\n",
      "| value_loss         | 17686.236      |\n",
      "---------------------------------------\n",
      "Eval num_timesteps=8000, episode_reward=396.62 +/- 1187.79\n",
      "Episode length: 300.00 +/- 0.00\n",
      "New best mean reward!\n",
      "--------------------------------------\n",
      "| approxkl           | 0.00055276154 |\n",
      "| clipfrac           | 0.0           |\n",
      "| ep_len_mean        | 300           |\n",
      "| ep_reward_mean     | 804           |\n",
      "| explained_variance | -0.00318      |\n",
      "| fps                | 274           |\n",
      "| n_updates          | 8             |\n",
      "| policy_entropy     | 6.4261804     |\n",
      "| policy_loss        | -0.000530228  |\n",
      "| serial_timesteps   | 1024          |\n",
      "| time_elapsed       | 3.43          |\n",
      "| total_timesteps    | 8192          |\n",
      "| value_loss         | 822.76996     |\n",
      "--------------------------------------\n",
      "--------------------------------------\n",
      "| approxkl           | 1.9276222e-05 |\n",
      "| clipfrac           | 0.0           |\n",
      "| ep_len_mean        | 300           |\n",
      "| ep_reward_mean     | 846           |\n",
      "| explained_variance | 4.83e-05      |\n",
      "| fps                | 2329          |\n",
      "| n_updates          | 9             |\n",
      "| policy_entropy     | 6.4264903     |\n",
      "| policy_loss        | -5.849829e-05 |\n",
      "| serial_timesteps   | 1152          |\n",
      "| time_elapsed       | 7.16          |\n",
      "| total_timesteps    | 9216          |\n",
      "| value_loss         | 2136.0667     |\n",
      "--------------------------------------\n"
     ]
    }
   ],
   "source": [
    "model, save_dir = ppo2_training_mlp()"
   ],
   "metadata": {
    "collapsed": false,
    "pycharm": {
     "name": "#%%\n"
    }
   }
  },
  {
   "cell_type": "code",
   "execution_count": 6,
   "outputs": [
    {
     "name": "stdout",
     "output_type": "stream",
     "text": [
      "Loading a model without an environment, this model cannot be trained until it has a valid environment.\n"
     ]
    }
   ],
   "source": [
    "best_model = PPO2.load(save_dir + \"/best_model\")"
   ],
   "metadata": {
    "collapsed": false,
    "pycharm": {
     "name": "#%%\n"
    }
   }
  },
  {
   "cell_type": "code",
   "execution_count": 7,
   "outputs": [
    {
     "data": {
      "image/png": "[encoded data removed]",
      "text/plain": "<Figure size 432x288 with 1 Axes>"
     },
     "metadata": {
      "needs_background": "light"
     },
     "output_type": "display_data"
    }
   ],
   "source": [
    "env = gym.make(\"futbol-v1\")\n",
    "done = False\n",
    "total_reward = 0\n",
    "obs = env.reset()\n",
    "while not done:\n",
    "    action, _ = best_model.predict(obs)\n",
    "    ob, reward, done, _ = env.step(action)\n",
    "\n",
    "    plt.clf()\n",
    "    title_str = (\"reward : \" + str(reward))\n",
    "    padding = 5\n",
    "    ax = plt.axes(xlim=(0 - padding, env.WIDTH + padding), ylim=(0 - padding, env.HEIGHT + padding))\n",
    "    ax.set_aspect(\"equal\")\n",
    "    o = pymunk.matplotlib_util.DrawOptions(ax)\n",
    "    env.space.debug_draw(o)\n",
    "    plt.title(title_str, loc = 'left')\n",
    "    display.display(plt.gcf())\n",
    "    display.clear_output(wait=True)\n",
    "\n",
    "    total_reward += reward"
   ],
   "metadata": {
    "collapsed": false,
    "pycharm": {
     "name": "#%%\n"
    }
   }
  },
  {
   "cell_type": "code",
   "execution_count": 8,
   "outputs": [
    {
     "data": {
      "text/plain": "-1481.004938248791"
     },
     "execution_count": 8,
     "metadata": {},
     "output_type": "execute_result"
    }
   ],
   "source": [
    "total_reward"
   ],
   "metadata": {
    "collapsed": false,
    "pycharm": {
     "name": "#%%\n"
    }
   }
  },
  {
   "cell_type": "code",
   "execution_count": null,
   "outputs": [],
   "source": [
    "\n"
   ],
   "metadata": {
    "collapsed": false,
    "pycharm": {
     "name": "#%%\n"
    }
   }
  }
 ],
 "metadata": {
  "kernelspec": {
   "name": "python37664bit40079da364b347ecabc1815e0b83d85b",
   "language": "python",
   "display_name": "Python 3.7.6 64-bit"
  },
  "language_info": {
   "codemirror_mode": {
    "name": "ipython",
    "version": 2
   },
   "file_extension": ".py",
   "mimetype": "text/x-python",
   "name": "python",
   "nbconvert_exporter": "python",
   "pygments_lexer": "ipython2",
   "version": "2.7.6"
  }
 },
 "nbformat": 4,
 "nbformat_minor": 0
}