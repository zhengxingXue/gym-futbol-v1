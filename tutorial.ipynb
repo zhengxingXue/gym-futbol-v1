{
 "cells": [
  {
   "cell_type": "code",
   "execution_count": 1,
   "metadata": {
    "collapsed": true,
    "pycharm": {
     "name": "#%%\n"
    }
   },
   "outputs": [
    {
     "name": "stdout",
     "output_type": "stream",
     "text": [
      "Loading chipmunk for Darwin (64bit) [/Users/jim/Library/Python/3.7/lib/python/site-packages/pymunk/libchipmunk.dylib]\n",
      "WARNING:tensorflow:\n",
      "The TensorFlow contrib module will not be included in TensorFlow 2.0.\n",
      "For more information, please see:\n",
      "  * https://github.com/tensorflow/community/blob/master/rfcs/20180907-contrib-sunset.md\n",
      "  * https://github.com/tensorflow/addons\n",
      "  * https://github.com/tensorflow/io (for I/O related ops)\n",
      "If you depend on functionality not listed there, please file an issue.\n",
      "\n"
     ]
    }
   ],
   "source": [
    "import gym, gym_futbol_v1\n",
    "import numpy as np\n",
    "import pymunk.matplotlib_util\n",
    "import matplotlib.pyplot as plt\n",
    "%matplotlib inline\n",
    "from IPython import display\n",
    "from gym_futbol_v1.envs import Side\n",
    "from training import ppo2_mlp_policy_train\n",
    "from stable_baselines import PPO2"
   ]
  },
  {
   "cell_type": "code",
   "execution_count": 2,
   "outputs": [
    {
     "data": {
      "image/png": "[encoded data removed]",
      "text/plain": "<Figure size 432x288 with 1 Axes>"
     },
     "metadata": {
      "needs_background": "light"
     },
     "output_type": "display_data"
    },
    {
     "name": "stdout",
     "output_type": "stream",
     "text": [
      "[[52.5        34.          0.          0.        ]\n",
      " [26.25       22.66666667  0.          0.        ]\n",
      " [26.25       45.33333333  0.          0.        ]\n",
      " [78.75       22.66666667  0.          0.        ]\n",
      " [78.75       45.33333333  0.          0.        ]]\n",
      "[[ 0.          0.          0.          0.        ]\n",
      " [-0.47297297 -0.33333333  0.          0.        ]\n",
      " [-0.47297297  0.33333333  0.          0.        ]\n",
      " [ 0.47297297 -0.33333333  0.          0.        ]\n",
      " [ 0.47297297  0.33333333  0.          0.        ]]\n"
     ]
    }
   ],
   "source": [
    "env = gym.make(\"futbol-v1\")\n",
    "env.render()\n",
    "print(env.reset().reshape((-1,4)))\n",
    "print(env.normalize_observation_array(env.reset()).reshape((-1,4)))"
   ],
   "metadata": {
    "collapsed": false,
    "pycharm": {
     "name": "#%%\n"
    }
   }
  },
  {
   "cell_type": "code",
   "execution_count": 3,
   "outputs": [
    {
     "data": {
      "image/png": "[encoded data removed]",
      "text/plain": "<Figure size 432x288 with 1 Axes>"
     },
     "metadata": {
      "needs_background": "light"
     },
     "output_type": "display_data"
    }
   ],
   "source": [
    "done = False\n",
    "total_reward = 0\n",
    "for _ in range(20):\n",
    "    # action = np.reshape(env.action_space.sample(), -1)\n",
    "    action = np.array([0,0,0,3])\n",
    "    ob, reward, done, info = env.step(action, team_side=Side.right)\n",
    "\n",
    "    plt.clf()\n",
    "    title_str = (\"reward : \" + str(reward))\n",
    "    padding = 5\n",
    "    ax = plt.axes(xlim=(0 - padding, env.WIDTH + padding), ylim=(0 - padding, env.HEIGHT + padding))\n",
    "    ax.set_aspect(\"equal\")\n",
    "    o = pymunk.matplotlib_util.DrawOptions(ax)\n",
    "    env.space.debug_draw(o)\n",
    "    plt.title(title_str, loc = 'left')\n",
    "    display.display(plt.gcf())\n",
    "    display.clear_output(wait=True)\n",
    "\n",
    "    total_reward += reward"
   ],
   "metadata": {
    "collapsed": false,
    "pycharm": {
     "name": "#%%\n"
    }
   }
  },
  {
   "cell_type": "code",
   "execution_count": 4,
   "outputs": [
    {
     "data": {
      "text/plain": "array([52.5       , 34.        ,  0.        ,  0.        , 26.25      ,\n       22.66666667,  0.        ,  0.        , 26.25      , 45.33333333,\n        0.        ,  0.        , 78.75      , 22.66666667,  0.        ,\n        0.        , 78.75      , 45.33333333,  0.        ,  0.        ])"
     },
     "execution_count": 4,
     "metadata": {},
     "output_type": "execute_result"
    }
   ],
   "source": [
    "env.reset()"
   ],
   "metadata": {
    "collapsed": false,
    "pycharm": {
     "name": "#%%\n"
    }
   }
  },
  {
   "cell_type": "code",
   "execution_count": 5,
   "outputs": [
    {
     "name": "stdout",
     "output_type": "stream",
     "text": [
      "--------------------------------------\n",
      "| approxkl           | 0.0002888392  |\n",
      "| clipfrac           | 0.0           |\n",
      "| ep_len_mean        | 300           |\n",
      "| ep_reward_mean     | -564          |\n",
      "| explained_variance | -0.000141     |\n",
      "| fps                | 915           |\n",
      "| n_updates          | 1             |\n",
      "| policy_entropy     | 6.437341      |\n",
      "| policy_loss        | -0.0032223435 |\n",
      "| serial_timesteps   | 128           |\n",
      "| time_elapsed       | 1.69e-05      |\n",
      "| total_timesteps    | 1024          |\n",
      "| value_loss         | 9436.838      |\n",
      "--------------------------------------\n",
      "--------------------------------------\n",
      "| approxkl           | 0.00018509755 |\n",
      "| clipfrac           | 0.0           |\n",
      "| ep_len_mean        | 300           |\n",
      "| ep_reward_mean     | -17.9         |\n",
      "| explained_variance | 0.000185      |\n",
      "| fps                | 2333          |\n",
      "| n_updates          | 2             |\n",
      "| policy_entropy     | 6.435844      |\n",
      "| policy_loss        | -0.0018179595 |\n",
      "| serial_timesteps   | 256           |\n",
      "| time_elapsed       | 1.12          |\n",
      "| total_timesteps    | 2048          |\n",
      "| value_loss         | 4575.34       |\n",
      "--------------------------------------\n",
      "--------------------------------------\n",
      "| approxkl           | 0.00032637373 |\n",
      "| clipfrac           | 0.0           |\n",
      "| ep_len_mean        | 300           |\n",
      "| ep_reward_mean     | 410           |\n",
      "| explained_variance | -0.0014       |\n",
      "| fps                | 2608          |\n",
      "| n_updates          | 3             |\n",
      "| policy_entropy     | 6.4344945     |\n",
      "| policy_loss        | -0.001239226  |\n",
      "| serial_timesteps   | 384           |\n",
      "| time_elapsed       | 1.56          |\n",
      "| total_timesteps    | 3072          |\n",
      "| value_loss         | 6432.536      |\n",
      "--------------------------------------\n",
      "-------------------------------------\n",
      "| approxkl           | 0.0010773684 |\n",
      "| clipfrac           | 0.0          |\n",
      "| ep_len_mean        | 300          |\n",
      "| ep_reward_mean     | 369          |\n",
      "| explained_variance | 0.000354     |\n",
      "| fps                | 2083         |\n",
      "| n_updates          | 4            |\n",
      "| policy_entropy     | 6.430177     |\n",
      "| policy_loss        | 0.0004015696 |\n",
      "| serial_timesteps   | 512          |\n",
      "| time_elapsed       | 1.95         |\n",
      "| total_timesteps    | 4096         |\n",
      "| value_loss         | 12133.705    |\n",
      "-------------------------------------\n",
      "---------------------------------------\n",
      "| approxkl           | 5.2285333e-05  |\n",
      "| clipfrac           | 0.0            |\n",
      "| ep_len_mean        | 300            |\n",
      "| ep_reward_mean     | 438            |\n",
      "| explained_variance | 0.00116        |\n",
      "| fps                | 2237           |\n",
      "| n_updates          | 5              |\n",
      "| policy_entropy     | 6.4268045      |\n",
      "| policy_loss        | -0.00060572644 |\n",
      "| serial_timesteps   | 640            |\n",
      "| time_elapsed       | 2.45           |\n",
      "| total_timesteps    | 5120           |\n",
      "| value_loss         | 11026.883      |\n",
      "---------------------------------------\n",
      "---------------------------------------\n",
      "| approxkl           | 7.598499e-05   |\n",
      "| clipfrac           | 0.0            |\n",
      "| ep_len_mean        | 300            |\n",
      "| ep_reward_mean     | 509            |\n",
      "| explained_variance | -0.000831      |\n",
      "| fps                | 1890           |\n",
      "| n_updates          | 6              |\n",
      "| policy_entropy     | 6.424067       |\n",
      "| policy_loss        | -0.00083458546 |\n",
      "| serial_timesteps   | 768            |\n",
      "| time_elapsed       | 2.9            |\n",
      "| total_timesteps    | 6144           |\n",
      "| value_loss         | 5116.7705      |\n",
      "---------------------------------------\n",
      "--------------------------------------\n",
      "| approxkl           | 0.0009975098  |\n",
      "| clipfrac           | 0.0012207031  |\n",
      "| ep_len_mean        | 300           |\n",
      "| ep_reward_mean     | 649           |\n",
      "| explained_variance | -0.0015       |\n",
      "| fps                | 2078          |\n",
      "| n_updates          | 7             |\n",
      "| policy_entropy     | 6.426142      |\n",
      "| policy_loss        | -0.0009564187 |\n",
      "| serial_timesteps   | 896           |\n",
      "| time_elapsed       | 3.45          |\n",
      "| total_timesteps    | 7168          |\n",
      "| value_loss         | 12583.763     |\n",
      "--------------------------------------\n",
      "Eval num_timesteps=8000, episode_reward=547.19 +/- 1176.90\n",
      "Episode length: 300.00 +/- 0.00\n",
      "New best mean reward!\n",
      "--------------------------------------\n",
      "| approxkl           | 0.00014530966 |\n",
      "| clipfrac           | 0.0           |\n",
      "| ep_len_mean        | 300           |\n",
      "| ep_reward_mean     | 674           |\n",
      "| explained_variance | -0.000598     |\n",
      "| fps                | 282           |\n",
      "| n_updates          | 8             |\n",
      "| policy_entropy     | 6.425011      |\n",
      "| policy_loss        | -2.522656e-05 |\n",
      "| serial_timesteps   | 1024          |\n",
      "| time_elapsed       | 3.94          |\n",
      "| total_timesteps    | 8192          |\n",
      "| value_loss         | 10360.896     |\n",
      "--------------------------------------\n",
      "---------------------------------------\n",
      "| approxkl           | 6.605601e-06   |\n",
      "| clipfrac           | 0.0            |\n",
      "| ep_len_mean        | 300            |\n",
      "| ep_reward_mean     | 727            |\n",
      "| explained_variance | 0.000329       |\n",
      "| fps                | 1905           |\n",
      "| n_updates          | 9              |\n",
      "| policy_entropy     | 6.424936       |\n",
      "| policy_loss        | -0.00014266864 |\n",
      "| serial_timesteps   | 1152           |\n",
      "| time_elapsed       | 7.57           |\n",
      "| total_timesteps    | 9216           |\n",
      "| value_loss         | 16344.863      |\n",
      "---------------------------------------\n"
     ]
    }
   ],
   "source": [
    "model, save_dir = ppo2_mlp_policy_train(time_step=10**4)"
   ],
   "metadata": {
    "collapsed": false,
    "pycharm": {
     "name": "#%%\n"
    }
   }
  },
  {
   "cell_type": "code",
   "execution_count": 6,
   "outputs": [
    {
     "name": "stdout",
     "output_type": "stream",
     "text": [
      "Loading a model without an environment, this model cannot be trained until it has a valid environment.\n"
     ]
    }
   ],
   "source": [
    "best_model = PPO2.load(save_dir + \"/best_model\")"
   ],
   "metadata": {
    "collapsed": false,
    "pycharm": {
     "name": "#%%\n"
    }
   }
  },
  {
   "cell_type": "code",
   "execution_count": 7,
   "outputs": [
    {
     "data": {
      "image/png": "[encoded data removed]",
      "text/plain": "<Figure size 432x288 with 1 Axes>"
     },
     "metadata": {
      "needs_background": "light"
     },
     "output_type": "display_data"
    }
   ],
   "source": [
    "env = gym.make(\"futbol-v1\")\n",
    "done = False\n",
    "total_reward = 0\n",
    "obs = env.reset()\n",
    "while not done:\n",
    "    action, _ = best_model.predict(obs)\n",
    "    ob, reward, done, _ = env.step(action)\n",
    "\n",
    "    plt.clf()\n",
    "    title_str = (\"reward : \" + str(reward))\n",
    "    padding = 5\n",
    "    ax = plt.axes(xlim=(0 - padding, env.WIDTH + padding), ylim=(0 - padding, env.HEIGHT + padding))\n",
    "    ax.set_aspect(\"equal\")\n",
    "    o = pymunk.matplotlib_util.DrawOptions(ax)\n",
    "    env.space.debug_draw(o)\n",
    "    plt.title(title_str, loc = 'left')\n",
    "    display.display(plt.gcf())\n",
    "    display.clear_output(wait=True)\n",
    "\n",
    "    total_reward += reward"
   ],
   "metadata": {
    "collapsed": false,
    "pycharm": {
     "name": "#%%\n"
    }
   }
  },
  {
   "cell_type": "code",
   "execution_count": 8,
   "outputs": [
    {
     "data": {
      "text/plain": "641.8791691443502"
     },
     "execution_count": 8,
     "metadata": {},
     "output_type": "execute_result"
    }
   ],
   "source": [
    "total_reward"
   ],
   "metadata": {
    "collapsed": false,
    "pycharm": {
     "name": "#%%\n"
    }
   }
  },
  {
   "cell_type": "code",
   "execution_count": null,
   "outputs": [],
   "source": [
    "\n"
   ],
   "metadata": {
    "collapsed": false,
    "pycharm": {
     "name": "#%%\n"
    }
   }
  }
 ],
 "metadata": {
  "kernelspec": {
   "name": "python37664bit40079da364b347ecabc1815e0b83d85b",
   "language": "python",
   "display_name": "Python 3.7.6 64-bit"
  },
  "language_info": {
   "codemirror_mode": {
    "name": "ipython",
    "version": 2
   },
   "file_extension": ".py",
   "mimetype": "text/x-python",
   "name": "python",
   "nbconvert_exporter": "python",
   "pygments_lexer": "ipython2",
   "version": "2.7.6"
  }
 },
 "nbformat": 4,
 "nbformat_minor": 0
}