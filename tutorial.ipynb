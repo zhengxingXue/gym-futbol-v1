{
 "cells": [
  {
   "cell_type": "code",
   "execution_count": 1,
   "metadata": {
    "collapsed": true,
    "pycharm": {
     "name": "#%%\n"
    }
   },
   "outputs": [
    {
     "name": "stdout",
     "output_type": "stream",
     "text": [
      "Loading chipmunk for Darwin (64bit) [/Users/jim/Library/Python/3.7/lib/python/site-packages/pymunk/libchipmunk.dylib]\n",
      "WARNING:tensorflow:\n",
      "The TensorFlow contrib module will not be included in TensorFlow 2.0.\n",
      "For more information, please see:\n",
      "  * https://github.com/tensorflow/community/blob/master/rfcs/20180907-contrib-sunset.md\n",
      "  * https://github.com/tensorflow/addons\n",
      "  * https://github.com/tensorflow/io (for I/O related ops)\n",
      "If you depend on functionality not listed there, please file an issue.\n",
      "\n"
     ]
    }
   ],
   "source": [
    "import gym, gym_futbol_v1\n",
    "%matplotlib inline\n",
    "from gym_futbol_v1.envs import Side\n",
    "from utils import notebook_render_simple, notebook_render_mlp, notebook_render_lstm\n",
    "from training import ppo2_mlp_policy_train, ppo2_mlp_lstm_policy_train\n",
    "from stable_baselines import PPO2"
   ]
  },
  {
   "cell_type": "code",
   "execution_count": 2,
   "outputs": [
    {
     "data": {
      "image/png": "[encoded data removed]",
      "text/plain": "<Figure size 432x288 with 1 Axes>"
     },
     "metadata": {
      "needs_background": "light"
     },
     "output_type": "display_data"
    },
    {
     "name": "stdout",
     "output_type": "stream",
     "text": [
      "[[52.5        34.          0.          0.        ]\n",
      " [26.25       22.66666667  0.          0.        ]\n",
      " [26.25       45.33333333  0.          0.        ]\n",
      " [78.75       22.66666667  0.          0.        ]\n",
      " [78.75       45.33333333  0.          0.        ]]\n"
     ]
    }
   ],
   "source": [
    "env = gym.make(\"futbol-v1\")\n",
    "env.render()\n",
    "print(env.reset().reshape((-1,4)))"
   ],
   "metadata": {
    "collapsed": false,
    "pycharm": {
     "name": "#%%\n"
    }
   }
  },
  {
   "cell_type": "code",
   "execution_count": 3,
   "outputs": [
    {
     "data": {
      "image/png": "[encoded data removed]",
      "text/plain": "<Figure size 432x288 with 1 Axes>"
     },
     "metadata": {
      "needs_background": "light"
     },
     "output_type": "display_data"
    }
   ],
   "source": [
    "total_reward = notebook_render_simple(env, length=40, random=False, action=[0,3,0,0], side=Side.right)"
   ],
   "metadata": {
    "collapsed": false,
    "pycharm": {
     "name": "#%%\n"
    }
   }
  },
  {
   "cell_type": "code",
   "execution_count": 4,
   "outputs": [
    {
     "name": "stdout",
     "output_type": "stream",
     "text": [
      "--------------------------------------\n",
      "| approxkl           | 0.0004084398  |\n",
      "| clipfrac           | 0.0           |\n",
      "| ep_len_mean        | 300           |\n",
      "| ep_reward_mean     | 180           |\n",
      "| explained_variance | 0.000474      |\n",
      "| fps                | 1174          |\n",
      "| n_updates          | 1             |\n",
      "| policy_entropy     | 6.437246      |\n",
      "| policy_loss        | -0.0036003604 |\n",
      "| serial_timesteps   | 128           |\n",
      "| time_elapsed       | 1.29e-05      |\n",
      "| total_timesteps    | 1024          |\n",
      "| value_loss         | 4262.2456     |\n",
      "--------------------------------------\n",
      "--------------------------------------\n",
      "| approxkl           | 0.00034331254 |\n",
      "| clipfrac           | 0.0           |\n",
      "| ep_len_mean        | 300           |\n",
      "| ep_reward_mean     | 600           |\n",
      "| explained_variance | -0.000727     |\n",
      "| fps                | 2129          |\n",
      "| n_updates          | 2             |\n",
      "| policy_entropy     | 6.4347954     |\n",
      "| policy_loss        | -0.0011820807 |\n",
      "| serial_timesteps   | 256           |\n",
      "| time_elapsed       | 0.873         |\n",
      "| total_timesteps    | 2048          |\n",
      "| value_loss         | 9515.778      |\n",
      "--------------------------------------\n",
      "--------------------------------------\n",
      "| approxkl           | 0.00023226236 |\n",
      "| clipfrac           | 0.0           |\n",
      "| ep_len_mean        | 300           |\n",
      "| ep_reward_mean     | 1.01e+03      |\n",
      "| explained_variance | 0.000202      |\n",
      "| fps                | 2692          |\n",
      "| n_updates          | 3             |\n",
      "| policy_entropy     | 6.431788      |\n",
      "| policy_loss        | -0.0012524986 |\n",
      "| serial_timesteps   | 384           |\n",
      "| time_elapsed       | 1.35          |\n",
      "| total_timesteps    | 3072          |\n",
      "| value_loss         | 21410.617     |\n",
      "--------------------------------------\n",
      "--------------------------------------\n",
      "| approxkl           | 0.0011407183  |\n",
      "| clipfrac           | 0.0007324219  |\n",
      "| ep_len_mean        | 300           |\n",
      "| ep_reward_mean     | 715           |\n",
      "| explained_variance | -0.00304      |\n",
      "| fps                | 2501          |\n",
      "| n_updates          | 4             |\n",
      "| policy_entropy     | 6.4301643     |\n",
      "| policy_loss        | -0.0019709535 |\n",
      "| serial_timesteps   | 512           |\n",
      "| time_elapsed       | 1.74          |\n",
      "| total_timesteps    | 4096          |\n",
      "| value_loss         | 7143.8286     |\n",
      "--------------------------------------\n",
      "--------------------------------------\n",
      "| approxkl           | 0.00045291576 |\n",
      "| clipfrac           | 0.00048828125 |\n",
      "| ep_len_mean        | 300           |\n",
      "| ep_reward_mean     | 747           |\n",
      "| explained_variance | 4.39e-05      |\n",
      "| fps                | 2251          |\n",
      "| n_updates          | 5             |\n",
      "| policy_entropy     | 6.424559      |\n",
      "| policy_loss        | -0.0019807373 |\n",
      "| serial_timesteps   | 640           |\n",
      "| time_elapsed       | 2.15          |\n",
      "| total_timesteps    | 5120          |\n",
      "| value_loss         | 5372.9463     |\n",
      "--------------------------------------\n",
      "--------------------------------------\n",
      "| approxkl           | 0.0016607724  |\n",
      "| clipfrac           | 0.00390625    |\n",
      "| ep_len_mean        | 300           |\n",
      "| ep_reward_mean     | 669           |\n",
      "| explained_variance | 0.00116       |\n",
      "| fps                | 2799          |\n",
      "| n_updates          | 6             |\n",
      "| policy_entropy     | 6.4127865     |\n",
      "| policy_loss        | -0.0015843231 |\n",
      "| serial_timesteps   | 768           |\n",
      "| time_elapsed       | 2.6           |\n",
      "| total_timesteps    | 6144          |\n",
      "| value_loss         | 4775.656      |\n",
      "--------------------------------------\n",
      "---------------------------------------\n",
      "| approxkl           | 7.686052e-05   |\n",
      "| clipfrac           | 0.0            |\n",
      "| ep_len_mean        | 300            |\n",
      "| ep_reward_mean     | 584            |\n",
      "| explained_variance | -0.00129       |\n",
      "| fps                | 2094           |\n",
      "| n_updates          | 7              |\n",
      "| policy_entropy     | 6.409212       |\n",
      "| policy_loss        | -0.00049038464 |\n",
      "| serial_timesteps   | 896            |\n",
      "| time_elapsed       | 2.97           |\n",
      "| total_timesteps    | 7168           |\n",
      "| value_loss         | 2380.512       |\n",
      "---------------------------------------\n",
      "Eval num_timesteps=8000, episode_reward=233.79 +/- 942.52\n",
      "Episode length: 300.00 +/- 0.00\n",
      "New best mean reward!\n",
      "---------------------------------------\n",
      "| approxkl           | 0.000117888725 |\n",
      "| clipfrac           | 0.0            |\n",
      "| ep_len_mean        | 300            |\n",
      "| ep_reward_mean     | 504            |\n",
      "| explained_variance | 0.00118        |\n",
      "| fps                | 299            |\n",
      "| n_updates          | 8              |\n",
      "| policy_entropy     | 6.4034944      |\n",
      "| policy_loss        | -0.00041662526 |\n",
      "| serial_timesteps   | 1024           |\n",
      "| time_elapsed       | 3.46           |\n",
      "| total_timesteps    | 8192           |\n",
      "| value_loss         | 5648.843       |\n",
      "---------------------------------------\n",
      "---------------------------------------\n",
      "| approxkl           | 1.7883356e-05  |\n",
      "| clipfrac           | 0.0            |\n",
      "| ep_len_mean        | 300            |\n",
      "| ep_reward_mean     | 451            |\n",
      "| explained_variance | 0.000283       |\n",
      "| fps                | 2035           |\n",
      "| n_updates          | 9              |\n",
      "| policy_entropy     | 6.403407       |\n",
      "| policy_loss        | -0.00037039624 |\n",
      "| serial_timesteps   | 1152           |\n",
      "| time_elapsed       | 6.87           |\n",
      "| total_timesteps    | 9216           |\n",
      "| value_loss         | 4890.891       |\n",
      "---------------------------------------\n",
      "model saved to ./training/logs/ppo2-mlp-1592100436/ppo2-mlp.zip\n"
     ]
    }
   ],
   "source": [
    "model, save_dir = ppo2_mlp_policy_train(time_step=10**4)"
   ],
   "metadata": {
    "collapsed": false,
    "pycharm": {
     "name": "#%%\n"
    }
   }
  },
  {
   "cell_type": "code",
   "execution_count": 5,
   "outputs": [
    {
     "name": "stdout",
     "output_type": "stream",
     "text": [
      "Loading a model without an environment, this model cannot be trained until it has a valid environment.\n"
     ]
    }
   ],
   "source": [
    "best_model = PPO2.load(save_dir + \"/best_model\")"
   ],
   "metadata": {
    "collapsed": false,
    "pycharm": {
     "name": "#%%\n"
    }
   }
  },
  {
   "cell_type": "code",
   "execution_count": null,
   "outputs": [
    {
     "data": {
      "image/png": "[encoded data removed]",
      "text/plain": "<Figure size 432x288 with 1 Axes>"
     },
     "metadata": {},
     "output_type": "display_data"
    }
   ],
   "source": [
    "total_reward = notebook_render_mlp('futbol-v1', best_model)"
   ],
   "metadata": {
    "collapsed": false,
    "pycharm": {
     "name": "#%%\n",
     "is_executing": true
    }
   }
  },
  {
   "cell_type": "code",
   "execution_count": 7,
   "outputs": [
    {
     "name": "stdout",
     "output_type": "stream",
     "text": [
      "--------------------------------------\n",
      "| approxkl           | 0.0013559756  |\n",
      "| clipfrac           | 0.0026855469  |\n",
      "| ep_len_mean        | 300           |\n",
      "| ep_reward_mean     | 2.14e+03      |\n",
      "| explained_variance | -7.36e-05     |\n",
      "| fps                | 122           |\n",
      "| n_updates          | 1             |\n",
      "| policy_entropy     | 6.4276805     |\n",
      "| policy_loss        | -0.0031477578 |\n",
      "| serial_timesteps   | 128           |\n",
      "| time_elapsed       | 1.53e-05      |\n",
      "| total_timesteps    | 1024          |\n",
      "| value_loss         | 17416.3       |\n",
      "--------------------------------------\n",
      "--------------------------------------\n",
      "| approxkl           | 0.00050659373 |\n",
      "| clipfrac           | 0.0           |\n",
      "| ep_len_mean        | 300           |\n",
      "| ep_reward_mean     | 1.16e+03      |\n",
      "| explained_variance | -8.18e-05     |\n",
      "| fps                | 268           |\n",
      "| n_updates          | 2             |\n",
      "| policy_entropy     | 6.4278665     |\n",
      "| policy_loss        | 0.0008017018  |\n",
      "| serial_timesteps   | 256           |\n",
      "| time_elapsed       | 8.37          |\n",
      "| total_timesteps    | 2048          |\n",
      "| value_loss         | 24039.2       |\n",
      "--------------------------------------\n",
      "---------------------------------------\n",
      "| approxkl           | 0.0006244162   |\n",
      "| clipfrac           | 0.0            |\n",
      "| ep_len_mean        | 300            |\n",
      "| ep_reward_mean     | 847            |\n",
      "| explained_variance | -0.00234       |\n",
      "| fps                | 273            |\n",
      "| n_updates          | 3              |\n",
      "| policy_entropy     | 6.4235272      |\n",
      "| policy_loss        | -0.00038972747 |\n",
      "| serial_timesteps   | 384            |\n",
      "| time_elapsed       | 12.2           |\n",
      "| total_timesteps    | 3072           |\n",
      "| value_loss         | 387.85168      |\n",
      "---------------------------------------\n",
      "--------------------------------------\n",
      "| approxkl           | 0.0024291184  |\n",
      "| clipfrac           | 0.025390625   |\n",
      "| ep_len_mean        | 300           |\n",
      "| ep_reward_mean     | 1.02e+03      |\n",
      "| explained_variance | -0.000117     |\n",
      "| fps                | 321           |\n",
      "| n_updates          | 4             |\n",
      "| policy_entropy     | 6.4123726     |\n",
      "| policy_loss        | -0.0021939483 |\n",
      "| serial_timesteps   | 512           |\n",
      "| time_elapsed       | 15.9          |\n",
      "| total_timesteps    | 4096          |\n",
      "| value_loss         | 10436.272     |\n",
      "--------------------------------------\n",
      "-------------------------------------\n",
      "| approxkl           | 0.0041048853 |\n",
      "| clipfrac           | 0.044921875  |\n",
      "| ep_len_mean        | 300          |\n",
      "| ep_reward_mean     | 917          |\n",
      "| explained_variance | 0.000701     |\n",
      "| fps                | 305          |\n",
      "| n_updates          | 5            |\n",
      "| policy_entropy     | 6.4021344    |\n",
      "| policy_loss        | 0.0008313253 |\n",
      "| serial_timesteps   | 640          |\n",
      "| time_elapsed       | 19.1         |\n",
      "| total_timesteps    | 5120         |\n",
      "| value_loss         | 8293.078     |\n",
      "-------------------------------------\n",
      "--------------------------------------\n",
      "| approxkl           | 0.0010997847  |\n",
      "| clipfrac           | 0.0026855469  |\n",
      "| ep_len_mean        | 300           |\n",
      "| ep_reward_mean     | 796           |\n",
      "| explained_variance | 0.00124       |\n",
      "| fps                | 300           |\n",
      "| n_updates          | 6             |\n",
      "| policy_entropy     | 6.388027      |\n",
      "| policy_loss        | -0.0013806093 |\n",
      "| serial_timesteps   | 768           |\n",
      "| time_elapsed       | 22.5          |\n",
      "| total_timesteps    | 6144          |\n",
      "| value_loss         | 4601.226      |\n",
      "--------------------------------------\n",
      "-------------------------------------\n",
      "| approxkl           | 0.0010875359 |\n",
      "| clipfrac           | 0.001953125  |\n",
      "| ep_len_mean        | 300          |\n",
      "| ep_reward_mean     | 647          |\n",
      "| explained_variance | 0.000568     |\n",
      "| fps                | 306          |\n",
      "| n_updates          | 7            |\n",
      "| policy_entropy     | 6.379124     |\n",
      "| policy_loss        | -0.001215789 |\n",
      "| serial_timesteps   | 896          |\n",
      "| time_elapsed       | 25.9         |\n",
      "| total_timesteps    | 7168         |\n",
      "| value_loss         | 8416.233     |\n",
      "-------------------------------------\n",
      "--------------------------------------\n",
      "| approxkl           | 0.003995618   |\n",
      "| clipfrac           | 0.048583984   |\n",
      "| ep_len_mean        | 300           |\n",
      "| ep_reward_mean     | 632           |\n",
      "| explained_variance | 0.000444      |\n",
      "| fps                | 305           |\n",
      "| n_updates          | 8             |\n",
      "| policy_entropy     | 6.3385086     |\n",
      "| policy_loss        | -0.0013575554 |\n",
      "| serial_timesteps   | 1024          |\n",
      "| time_elapsed       | 29.2          |\n",
      "| total_timesteps    | 8192          |\n",
      "| value_loss         | 4774.425      |\n",
      "--------------------------------------\n",
      "-------------------------------------\n",
      "| approxkl           | 0.006699373  |\n",
      "| clipfrac           | 0.09399414   |\n",
      "| ep_len_mean        | 300          |\n",
      "| ep_reward_mean     | 663          |\n",
      "| explained_variance | 0.000273     |\n",
      "| fps                | 308          |\n",
      "| n_updates          | 9            |\n",
      "| policy_entropy     | 6.355373     |\n",
      "| policy_loss        | 0.0008284903 |\n",
      "| serial_timesteps   | 1152         |\n",
      "| time_elapsed       | 32.6         |\n",
      "| total_timesteps    | 9216         |\n",
      "| value_loss         | 5315.843     |\n",
      "-------------------------------------\n"
     ]
    }
   ],
   "source": [
    "model, save_dir = ppo2_mlp_lstm_policy_train(time_step=10**4)"
   ],
   "metadata": {
    "collapsed": false,
    "pycharm": {
     "name": "#%%\n"
    }
   }
  },
  {
   "cell_type": "code",
   "execution_count": 8,
   "outputs": [
    {
     "data": {
      "image/png": "[encoded data removed]",
      "text/plain": "<Figure size 432x288 with 1 Axes>"
     },
     "metadata": {
      "needs_background": "light"
     },
     "output_type": "display_data"
    }
   ],
   "source": [
    "total_reward = notebook_render_lstm('futbol-v1', model)"
   ],
   "metadata": {
    "collapsed": false,
    "pycharm": {
     "name": "#%%\n"
    }
   }
  },
  {
   "cell_type": "code",
   "execution_count": null,
   "outputs": [],
   "source": [
    "\n"
   ],
   "metadata": {
    "collapsed": false,
    "pycharm": {
     "name": "#%%\n"
    }
   }
  }
 ],
 "metadata": {
  "kernelspec": {
   "name": "python37664bit40079da364b347ecabc1815e0b83d85b",
   "language": "python",
   "display_name": "Python 3.7.6 64-bit"
  },
  "language_info": {
   "codemirror_mode": {
    "name": "ipython",
    "version": 2
   },
   "file_extension": ".py",
   "mimetype": "text/x-python",
   "name": "python",
   "nbconvert_exporter": "python",
   "pygments_lexer": "ipython2",
   "version": "2.7.6"
  }
 },
 "nbformat": 4,
 "nbformat_minor": 0
}